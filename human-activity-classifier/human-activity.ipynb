{
 "cells": [
  {
   "cell_type": "code",
   "execution_count": 1,
   "metadata": {},
   "outputs": [],
   "source": [
    "import numpy as np"
   ]
  },
  {
   "cell_type": "markdown",
   "metadata": {},
   "source": [
    "<h2>Leitura de dataset</h2>"
   ]
  },
  {
   "cell_type": "code",
   "execution_count": 2,
   "metadata": {
    "scrolled": true
   },
   "outputs": [
    {
     "name": "stdout",
     "output_type": "stream",
     "text": [
      "(7352, 561)\n",
      "(7352,)\n",
      "(2947, 561)\n",
      "(2947,)\n"
     ]
    }
   ],
   "source": [
    "X_train = np.genfromtxt('Datasets/train/X_train.txt')\n",
    "print(X_train.shape) \n",
    "\n",
    "y_train = np.genfromtxt('Datasets/train/y_train.txt')\n",
    "print(y_train.shape)\n",
    "\n",
    "X_test = np.genfromtxt('Datasets/test/X_test.txt')\n",
    "print(X_test.shape)\n",
    "\n",
    "y_test = np.genfromtxt('Datasets/test/y_test.txt')\n",
    "print(y_test.shape)"
   ]
  },
  {
   "cell_type": "markdown",
   "metadata": {},
   "source": [
    "<h2>Normalização</h2>"
   ]
  },
  {
   "cell_type": "code",
   "execution_count": 3,
   "metadata": {},
   "outputs": [
    {
     "name": "stdout",
     "output_type": "stream",
     "text": [
      "Valor mínimo de X_train -1.0\n",
      "Valor máximo de X_train 1.0\n",
      "Valor mínimo de X_test -1.0\n",
      "Valor máximo de X_test 1.0\n"
     ]
    }
   ],
   "source": [
    "print('Valor mínimo de X_train {}'.format(X_train.min()))\n",
    "print('Valor máximo de X_train {}'.format(X_train.max()))\n",
    "\n",
    "print('Valor mínimo de X_test {}'.format(X_test.min()))\n",
    "print('Valor máximo de X_test {}'.format(X_test.max()))"
   ]
  },
  {
   "cell_type": "markdown",
   "metadata": {},
   "source": [
    "<h2>Balanceamento</h2>"
   ]
  },
  {
   "cell_type": "code",
   "execution_count": 4,
   "metadata": {},
   "outputs": [
    {
     "name": "stdout",
     "output_type": "stream",
     "text": [
      "valore 1.0, quantidade 1226\n",
      "valore 2.0, quantidade 1073\n",
      "valore 3.0, quantidade 986\n",
      "valore 4.0, quantidade 1286\n",
      "valore 5.0, quantidade 1374\n",
      "valore 6.0, quantidade 1407\n"
     ]
    }
   ],
   "source": [
    "unicos = np.unique(y_train)\n",
    "\n",
    "for u in unicos:\n",
    "    print('valore {}, quantidade {}'.format(u, np.count_nonzero(y_train == u)))"
   ]
  },
  {
   "cell_type": "markdown",
   "metadata": {},
   "source": [
    "<h2>Util</h2>"
   ]
  },
  {
   "cell_type": "code",
   "execution_count": 5,
   "metadata": {},
   "outputs": [],
   "source": [
    "from sklearn.metrics import *\n",
    "\n",
    "def printValues(label, y_pred):\n",
    "    acc = accuracy_score(y_test, y_pred)\n",
    "    rec = recall_score(y_test, y_pred, average='micro')\n",
    "    pre = precision_score(y_test, y_pred, average='micro')\n",
    "    \n",
    "    print('\\033[1m{}\\033[0m:\\nAccuracy: {}\\nRecall: {}\\nPrecision: {}\\n'.format(label, acc, rec, pre))"
   ]
  },
  {
   "cell_type": "markdown",
   "metadata": {},
   "source": [
    "<h2>Feature selection</h2>"
   ]
  },
  {
   "cell_type": "markdown",
   "metadata": {},
   "source": [
    "<h3>F-test</h3>"
   ]
  },
  {
   "cell_type": "code",
   "execution_count": 6,
   "metadata": {},
   "outputs": [
    {
     "data": {
      "text/plain": [
       "((7352, 555), (2947, 555))"
      ]
     },
     "execution_count": 6,
     "metadata": {},
     "output_type": "execute_result"
    }
   ],
   "source": [
    "from sklearn.feature_selection import *\n",
    "\n",
    "F, pval = f_classif(X_train, y_train)\n",
    "ft_columns = np.argwhere(pval <= 0.01).reshape(-1)\n",
    "\n",
    "ft_train = X_train[:, ft_columns]\n",
    "ft_test = X_test[:, ft_columns]\n",
    "ft_train.shape, ft_test.shape"
   ]
  },
  {
   "cell_type": "markdown",
   "metadata": {},
   "source": [
    "<h3>Mutual Information</h3>"
   ]
  },
  {
   "cell_type": "code",
   "execution_count": 7,
   "metadata": {},
   "outputs": [
    {
     "data": {
      "text/plain": [
       "((7352, 24), (2947, 24))"
      ]
     },
     "execution_count": 7,
     "metadata": {},
     "output_type": "execute_result"
    }
   ],
   "source": [
    "mi = mutual_info_classif(X_train, y_train)\n",
    "mi_colulmns = np.argwhere(mi <= 0.05).reshape(-1)\n",
    "\n",
    "mi_train = X_train[:, mi_colulmns]\n",
    "mi_test = X_test[:, mi_colulmns]\n",
    "mi_train.shape, mi_test.shape"
   ]
  },
  {
   "cell_type": "markdown",
   "metadata": {},
   "source": [
    "<h3>Variance threshold</h3>"
   ]
  },
  {
   "cell_type": "code",
   "execution_count": 8,
   "metadata": {},
   "outputs": [
    {
     "data": {
      "text/plain": [
       "((7352, 189), (2947, 189))"
      ]
     },
     "execution_count": 8,
     "metadata": {},
     "output_type": "execute_result"
    }
   ],
   "source": [
    "vt = VarianceThreshold(threshold=0.1)\n",
    "vt.fit(X_train)\n",
    "\n",
    "vt_train = vt.transform(X_train)\n",
    "vt_test = vt.transform(X_test)\n",
    "vt_train.shape, vt_test.shape"
   ]
  },
  {
   "cell_type": "markdown",
   "metadata": {},
   "source": [
    "<h3>Naive Bayes</h3>"
   ]
  },
  {
   "cell_type": "code",
   "execution_count": 9,
   "metadata": {},
   "outputs": [],
   "source": [
    "from sklearn.naive_bayes import GaussianNB\n",
    "\n",
    "def runNaiveBayes(x_tr, x_te, label):\n",
    "    gnb = GaussianNB()\n",
    "    y_pred = gnb.fit(x_tr, y_train).predict(x_te)\n",
    "\n",
    "    printValues(label, y_pred)"
   ]
  },
  {
   "cell_type": "code",
   "execution_count": 10,
   "metadata": {},
   "outputs": [
    {
     "name": "stdout",
     "output_type": "stream",
     "text": [
      "\u001b[1mOriginal\u001b[0m:\n",
      "Accuracy: 0.770274855786\n",
      "Recall: 0.770274855786\n",
      "Precision: 0.770274855786\n",
      "\n",
      "\u001b[1mMutual Information\u001b[0m:\n",
      "Accuracy: 0.423142178487\n",
      "Recall: 0.423142178487\n",
      "Precision: 0.423142178487\n",
      "\n",
      "\u001b[1mF-test\u001b[0m:\n",
      "Accuracy: 0.770614183916\n",
      "Recall: 0.770614183916\n",
      "Precision: 0.770614183916\n",
      "\n",
      "\u001b[1mVariance Threshold\u001b[0m:\n",
      "Accuracy: 0.830335934849\n",
      "Recall: 0.830335934849\n",
      "Precision: 0.830335934849\n",
      "\n"
     ]
    }
   ],
   "source": [
    "runNaiveBayes(X_train, X_test, 'Original')\n",
    "\n",
    "runNaiveBayes(mi_train, mi_test, 'Mutual Information')\n",
    "\n",
    "runNaiveBayes(ft_train, ft_test, 'F-test')\n",
    "\n",
    "runNaiveBayes(vt_train, vt_test, 'Variance Threshold')"
   ]
  },
  {
   "cell_type": "markdown",
   "metadata": {},
   "source": [
    "<h3>SVC</h3>"
   ]
  },
  {
   "cell_type": "code",
   "execution_count": 11,
   "metadata": {},
   "outputs": [],
   "source": [
    "from sklearn.svm import SVC\n",
    "\n",
    "def runSVC(x_tr, x_te, label):\n",
    "    svc = SVC(C=10., gamma=0.1)\n",
    "    y_pred = svc.fit(x_tr, y_train).predict(x_te)\n",
    "\n",
    "    printValues(label, y_pred)"
   ]
  },
  {
   "cell_type": "code",
   "execution_count": 12,
   "metadata": {},
   "outputs": [
    {
     "name": "stdout",
     "output_type": "stream",
     "text": [
      "\u001b[1mOriginal\u001b[0m:\n",
      "Accuracy: 0.956226671191\n",
      "Recall: 0.956226671191\n",
      "Precision: 0.956226671191\n",
      "\n",
      "\u001b[1mMutual Information\u001b[0m:\n",
      "Accuracy: 0.617237869019\n",
      "Recall: 0.617237869019\n",
      "Precision: 0.617237869019\n",
      "\n",
      "\u001b[1mF-test\u001b[0m:\n",
      "Accuracy: 0.956905327452\n",
      "Recall: 0.956905327452\n",
      "Precision: 0.956905327452\n",
      "\n",
      "\u001b[1mVariance Threshold\u001b[0m:\n",
      "Accuracy: 0.954190702409\n",
      "Recall: 0.954190702409\n",
      "Precision: 0.954190702409\n",
      "\n"
     ]
    }
   ],
   "source": [
    "runSVC(X_train, X_test, 'Original')\n",
    "\n",
    "runSVC(mi_train, mi_test, 'Mutual Information')\n",
    "\n",
    "runSVC(ft_train, ft_test, 'F-test')\n",
    "\n",
    "runSVC(vt_train, vt_test, 'Variance Threshold')"
   ]
  },
  {
   "cell_type": "markdown",
   "metadata": {},
   "source": [
    "<h3>Árvore de decisão</h3>"
   ]
  },
  {
   "cell_type": "code",
   "execution_count": 13,
   "metadata": {},
   "outputs": [],
   "source": [
    "from sklearn.tree import DecisionTreeClassifier\n",
    "\n",
    "def runTree(x_tr, x_te, label):\n",
    "    decision_tree = DecisionTreeClassifier(criterion='entropy')\n",
    "    y_pred= decision_tree.fit(x_tr, y_train).predict(x_te)\n",
    "    \n",
    "    printValues(label, y_pred)"
   ]
  },
  {
   "cell_type": "code",
   "execution_count": 14,
   "metadata": {},
   "outputs": [
    {
     "name": "stdout",
     "output_type": "stream",
     "text": [
      "\u001b[1mOriginal\u001b[0m:\n",
      "Accuracy: 0.851034950797\n",
      "Recall: 0.851034950797\n",
      "Precision: 0.851034950797\n",
      "\n",
      "\u001b[1mMutual Information\u001b[0m:\n",
      "Accuracy: 0.315235833051\n",
      "Recall: 0.315235833051\n",
      "Precision: 0.315235833051\n",
      "\n",
      "\u001b[1mF-test\u001b[0m:\n",
      "Accuracy: 0.862232779097\n",
      "Recall: 0.862232779097\n",
      "Precision: 0.862232779097\n",
      "\n",
      "\u001b[1mVariance Threshold\u001b[0m:\n",
      "Accuracy: 0.822192059722\n",
      "Recall: 0.822192059722\n",
      "Precision: 0.822192059722\n",
      "\n"
     ]
    }
   ],
   "source": [
    "runTree(X_train, X_test, 'Original')\n",
    "\n",
    "runTree(mi_train, mi_test, 'Mutual Information')\n",
    "\n",
    "runTree(ft_train, ft_test, 'F-test')\n",
    "\n",
    "runTree(vt_train, vt_test, 'Variance Threshold')"
   ]
  },
  {
   "cell_type": "markdown",
   "metadata": {},
   "source": [
    "<h3>MLP</h3>"
   ]
  },
  {
   "cell_type": "code",
   "execution_count": 15,
   "metadata": {},
   "outputs": [],
   "source": [
    "from sklearn.neural_network import MLPClassifier\n",
    "\n",
    "def runMlp(x_tr, x_te, label):\n",
    "    mlp = MLPClassifier(hidden_layer_sizes=(100,),\n",
    "                                            activation='logistic',\n",
    "                                            max_iter=200,\n",
    "                                            verbose=False,\n",
    "                                            early_stopping=True)\n",
    "    \n",
    "    y_pred = mlp.fit(x_tr, y_train).predict(x_te)\n",
    "    \n",
    "    printValues(label, y_pred) "
   ]
  },
  {
   "cell_type": "code",
   "execution_count": 16,
   "metadata": {},
   "outputs": [
    {
     "name": "stdout",
     "output_type": "stream",
     "text": [
      "\u001b[1mOriginal\u001b[0m:\n",
      "Accuracy: 0.930437733288\n",
      "Recall: 0.930437733288\n",
      "Precision: 0.930437733288\n",
      "\n",
      "\u001b[1mMutual Information\u001b[0m:\n",
      "Accuracy: 0.523243976926\n",
      "Recall: 0.523243976926\n",
      "Precision: 0.523243976926\n",
      "\n",
      "\u001b[1mF-test\u001b[0m:\n",
      "Accuracy: 0.946046827282\n",
      "Recall: 0.946046827282\n",
      "Precision: 0.946046827282\n",
      "\n",
      "\u001b[1mVariance Threshold\u001b[0m:\n",
      "Accuracy: 0.930437733288\n",
      "Recall: 0.930437733288\n",
      "Precision: 0.930437733288\n",
      "\n"
     ]
    }
   ],
   "source": [
    "runMlp(X_train, X_test, 'Original')\n",
    "\n",
    "runMlp(mi_train, mi_test, 'Mutual Information')\n",
    "\n",
    "runMlp(ft_train, ft_test, 'F-test')\n",
    "\n",
    "runMlp(vt_train, vt_test, 'Variance Threshold')"
   ]
  }
 ],
 "metadata": {
  "kernelspec": {
   "display_name": "Python 2",
   "language": "python",
   "name": "python2"
  },
  "language_info": {
   "codemirror_mode": {
    "name": "ipython",
    "version": 2
   },
   "file_extension": ".py",
   "mimetype": "text/x-python",
   "name": "python",
   "nbconvert_exporter": "python",
   "pygments_lexer": "ipython2",
   "version": "2.7.13"
  }
 },
 "nbformat": 4,
 "nbformat_minor": 2
}
